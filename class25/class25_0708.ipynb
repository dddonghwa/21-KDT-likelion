{
 "cells": [
  {
   "cell_type": "markdown",
   "metadata": {},
   "source": [
    "__7월 8일__\n",
    "\n",
    "[학습 목표]\n",
    "- 데이터 분석 사례 실습(1교시)\n",
    "  - 여러개의 데이터 셋을 하나로 만들어본다.\n",
    "  - 데이터 전처리를 배워본다.\n",
    "- 팀별 프로젝트를 수행한다.\n",
    "\n",
    "[학습 내용]\n",
    "1. 리뷰(파이썬 라이브러리)\n",
    "2. 데이터 분석 사례 실습(1교시)\n",
    "    - 06_팀별실전프로젝트A - 데이터실전분석_corona\n",
    "3. 팀별 프로젝트 수행\n",
    "\t- 팀별 확인 및 기타 20-30분\n",
    "\t- 개별 질의 40-50분\n"
   ]
  },
  {
   "cell_type": "code",
   "execution_count": null,
   "metadata": {},
   "outputs": [],
   "source": []
  }
 ],
 "metadata": {
  "kernelspec": {
   "display_name": "Python 3",
   "language": "python",
   "name": "python3"
  },
  "language_info": {
   "codemirror_mode": {
    "name": "ipython",
    "version": 3
   },
   "file_extension": ".py",
   "mimetype": "text/x-python",
   "name": "python",
   "nbconvert_exporter": "python",
   "pygments_lexer": "ipython3",
   "version": "3.8.5"
  }
 },
 "nbformat": 4,
 "nbformat_minor": 4
}
