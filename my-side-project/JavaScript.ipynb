{
 "cells": [
  {
   "cell_type": "markdown",
   "metadata": {},
   "source": [
    "이 문서는 JavaScript Tutorial을 혼자 공부하며 만든 노트입니다.[링크](https://www.w3schools.com/js)"
   ]
  },
  {
   "cell_type": "markdown",
   "metadata": {},
   "source": [
    "## Output Display\n",
    "#### 1. innerHTML = \"contents\"   \n",
    " 출력할 내용을 정의한다. `document.getElementById(\"id\")`는 Javascript가 HTML에 접근하기 위해서 필요한 것, HTML 요소를 id가 특정해준다.  \n",
    "#### 2. document.write(\"contents\")   \n",
    " 앞서 적은 내용을 모두 삭제하고 새로 적는다. '덮어쓰기'의 방식\n",
    "#### 3. window.alert(\"contents\")      \n",
    " 안내 팝업창 띄움, `window`는 생략 가능하다. `window`가 전역 객체(global scope object)이므로 변수, 메서드, 프로퍼티를 자동으로 포함한다.\n",
    "#### 4. console.log()   \n",
    "debugging과 연관?\n",
    "\n",
    "#### cf. window.print()\n",
    "JavaScript에서는 출력 객체나 메서드가 존재하지 않음.   \n",
    "`window.print()`를 사용하면 진짜 프린트가 된다."
   ]
  },
  {
   "cell_type": "markdown",
   "metadata": {},
   "source": [
    "## Statement\n",
    "- 구성 : Values, Operators, Expressions, Keywords, and Comments.\n",
    "\n",
    "### Keywords List [링크](https://www.w3schools.com/js/js_reserved.asp)\n",
    "\n",
    "## Identifier \n",
    "> python에서는 snake case라고 변수_이름이_뱀처럼_보이죠 이런식으로 쓰는데 javascript에서는 CamelCase(낙타)라고 variableNameArray 낙타 등모양처럼 대소문자를 섞어서 사용하는게 관례입니다.   \n",
    "__ *comments by sjlee*\n",
    "\n",
    "\n",
    "- Identifier가 시작할 수 있는 문자\n",
    "    - A letter (A-Z or a-z)  \n",
    "    - A dollar sign ($)  \n",
    "    - Or an underscore (_)\n",
    "    \n",
    "달러로 시작하는 식별자는 잘 사용되지는 않지만 숙련된 프로그래머들은 JavaScript library에 자주 사용하는? 함수의 별칭으로 달러를 사용하기도 한다.   \n",
    "    예를 들어 `$`는 HTML 요소를 선택할 때 사용하기도 한다. `$(\"p\")`는 p 요소를 선택해달라는 의미이다.  \n",
    "- JavaScript는 대소문자를 구별한다. = case sensitivity  \n",
    "```\n",
    "var != VAR != Var\n",
    "```  \n",
    "\n",
    "## Variables\n",
    "변수 선언시 콤마(,)를 사용하여 한번에 선언할 수 있다.\n",
    "```\n",
    "var person = \"John Doe\", carName = \"Volvo\", price = 200;\n",
    "```\n",
    "문자열과 숫자를 더하면 문자열 더한 것이 된다. (뇌피셜-문자열 우선)\n",
    "```\n",
    "\"5\"+2+3 = \"523\"\n",
    "```\n",
    "파이썬은 서로 다른 데이터 타입은 더할 수 없음"
   ]
  },
  {
   "cell_type": "code",
   "execution_count": 1,
   "metadata": {},
   "outputs": [
    {
     "ename": "TypeError",
     "evalue": "can only concatenate str (not \"int\") to str",
     "output_type": "error",
     "traceback": [
      "\u001b[0;31m---------------------------------------------------------------------------\u001b[0m",
      "\u001b[0;31mTypeError\u001b[0m                                 Traceback (most recent call last)",
      "\u001b[0;32m<ipython-input-1-0ab8534d675d>\u001b[0m in \u001b[0;36m<module>\u001b[0;34m\u001b[0m\n\u001b[0;32m----> 1\u001b[0;31m \u001b[0;34m\"5\"\u001b[0m\u001b[0;34m+\u001b[0m\u001b[0;36m2\u001b[0m\u001b[0;34m+\u001b[0m\u001b[0;36m3\u001b[0m\u001b[0;34m\u001b[0m\u001b[0;34m\u001b[0m\u001b[0m\n\u001b[0m",
      "\u001b[0;31mTypeError\u001b[0m: can only concatenate str (not \"int\") to str"
     ]
    }
   ],
   "source": [
    "\"5\"+2+3"
   ]
  },
  {
   "cell_type": "markdown",
   "metadata": {},
   "source": [
    "## Let\n",
    "### Global Variable in HTML\n",
    "JavaScript에서 'global' 범위는 JavaScript 환경을 말하고, \n",
    "HTML에서 'global'은 window 객체를 말한다.\n",
    "따라서 JavaScript 내에 keyword `var`로 정의되는 객체는 HTML상에서 window 객체의 변수이다. \n",
    "\n",
    "```\n",
    "<html>\n",
    "<body>\n",
    "\n",
    "<h2>JavaScript Global Variables</h2>\n",
    "\n",
    "<p>In HTML, global variables defined with <b>var</b>, will become window variables.</p>\n",
    "\n",
    "<p id=\"demo\"></p>\n",
    "\n",
    "<script>\n",
    "var carName = \"Volvo\";\n",
    "\n",
    "// code here can use window.carName\n",
    "document.getElementById(\"demo\").innerHTML = \"I can display \" + window.carName;\n",
    "</script>\n",
    "\n",
    "</body>\n",
    "</html>\n",
    "```\n",
    "\n",
    "__(뇌피셜)__ 내가 실습에서 window를 붙이지 않아도 실행이 되었던 이유는 window는 생략가능하기 때문이다.\n",
    "\n",
    "### Redeclaring\n",
    "\n",
    "Example 2 ???\n",
    "```\n",
    "var x = 2;       // Allowed\n",
    "let x = 3;       // Not allowed\n",
    "\n",
    "{\n",
    "  var x = 4;   // Allowed\n",
    "  let x = 5   // Not allowed\n",
    "}\n",
    "```\n",
    "\n",
    "Example 4 ???\n",
    "```\n",
    "let x = 2;       // Allowed\n",
    "var x = 3;       // Not allowed\n",
    "\n",
    "{\n",
    "  let x = 4;   // Allowed\n",
    "  var x = 5;   // Not allowed\n",
    "}\n",
    "```\n",
    "\n",
    "### Let Hoisting\n",
    "전체적인 코드를 실행하기 전에 `var` 변수는 미리 선언하고 초기화시킨다.\n",
    "```\n",
    "// this code is okay\n",
    "carName = \"Volvo\";\n",
    "alert(carName);\n",
    "var carName;\n",
    "```\n",
    "\n",
    "하지만 `let` 변수는 선언은 하지만 초기화를 시키지 않는다.\n",
    "```\n",
    "carName = \"Saab\";\n",
    "let carName = \"Volvo\";\n",
    "```\n",
    "*??? '='이 변수 선언이 아니고 무엇이냔말이가!!  \n",
    "답변 : 맞다. '='는 변수 선언이고, 필요한 것은 할당이다. 이미 선언된 변수에 할당이 필요한 것이지 재선언이 필요하지는 않다.* "
   ]
  },
  {
   "cell_type": "code",
   "execution_count": null,
   "metadata": {},
   "outputs": [],
   "source": [
    "###"
   ]
  }
 ],
 "metadata": {
  "kernelspec": {
   "display_name": "Python 3",
   "language": "python",
   "name": "python3"
  },
  "language_info": {
   "codemirror_mode": {
    "name": "ipython",
    "version": 3
   },
   "file_extension": ".py",
   "mimetype": "text/x-python",
   "name": "python",
   "nbconvert_exporter": "python",
   "pygments_lexer": "ipython3",
   "version": "3.8.5"
  }
 },
 "nbformat": 4,
 "nbformat_minor": 4
}
