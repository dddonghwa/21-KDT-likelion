{
 "cells": [
  {
   "cell_type": "markdown",
   "metadata": {},
   "source": [
    "## 실습 1. 개봉 예정영화\n",
    "- 파일 만들고 구분 단락 하나(최신 섹션)을 선택하여 제목을 가져와보기\n",
    "- github commit하기"
   ]
  },
  {
   "cell_type": "code",
   "execution_count": 2,
   "metadata": {},
   "outputs": [
    {
     "name": "stdout",
     "output_type": "stream",
     "text": [
      "['2046', '킬러의 보디가드 2', '흩어진 밤', '아사다 가족', '미드나이트', '기적', '매직아치', '블랙 위도우', '미션 임파서블: 루벤', '꽃다발 같은 사랑을 했다', '와인 패밀리', '극장판 짱구는 못말려: 격돌! 낙서왕국과 얼추 네 명의 용사들', '베놈 2: 렛 데어 비 카니지', '007 노 타임 투 다이', '웨스트 사이드 스토리', '모비우스', '쥬라기 월드: 도미니언', '미니언즈2']\n"
     ]
    }
   ],
   "source": [
    "from bs4 import BeautifulSoup\n",
    "from urllib.request import urlopen\n",
    "\n",
    "url = 'https://movie.naver.com/movie/running/premovie.nhn'\n",
    "page = urlopen(url)\n",
    "soup = BeautifulSoup(page, 'html.parser')\n",
    "# print(soup.prettify()) \n",
    "# 영화 한개만\n",
    "one_soup = soup.find_all(\"ul\",class_=\"lst_detail_t1\")[0]\n",
    "one_title = one_soup.find(\"img\").get(\"alt\")\n"
   ]
  },
  {
   "cell_type": "code",
   "execution_count": null,
   "metadata": {},
   "outputs": [],
   "source": [
    "\n",
    "# 영화 여러개\n",
    "all_title = []\n",
    "movies = soup.find_all(\"ul\",class_=\"lst_detail_t1\")\n",
    "for movie in movies :\n",
    "    all_title.append(movie.find(\"img\").get(\"alt\"))\n",
    "\n",
    "print(all_title)"
   ]
  }
 ],
 "metadata": {
  "kernelspec": {
   "display_name": "Python 3",
   "language": "python",
   "name": "python3"
  },
  "language_info": {
   "codemirror_mode": {
    "name": "ipython",
    "version": 3
   },
   "file_extension": ".py",
   "mimetype": "text/x-python",
   "name": "python",
   "nbconvert_exporter": "python",
   "pygments_lexer": "ipython3",
   "version": "3.8.5"
  }
 },
 "nbformat": 4,
 "nbformat_minor": 4
}
