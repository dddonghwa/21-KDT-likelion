{
 "cells": [
  {
   "cell_type": "markdown",
   "metadata": {},
   "source": [
    "# 네이버 금융 정보 가져오기\n",
    "\n",
    "Top 종목-상한가에 있는 정보를 xlsx 파일로 정리하는 실습입니다."
   ]
  },
  {
   "cell_type": "code",
   "execution_count": null,
   "metadata": {},
   "outputs": [],
   "source": [
    "from bs4 import BeautifulSoup\n",
    "from urllib.request import urlopen\n",
    "import pandas as pd\n",
    "\n",
    "url = 'https://finance.naver.com/sise/'\n",
    "page = urlopen(url)\n",
    "soup = BeautifulSoup(page, 'html.parser')\n",
    "\n",
    "# 여러개\n",
    "top = soup.find_all(\"table\", summary=\"탑종목 상한가 리스트\")[0]\n",
    "\n",
    "idx_list = [2,3,4,5,6,10,11]\n",
    "c1 = list(range(1,8)) # 순위\n",
    "c2 = [] # 연속\n",
    "c3 = [] # 누적\n",
    "c4 = [] # 종목명\n",
    "c5 = [] # 현재가\n",
    "c6 = [] # 전일비\n",
    "c7 = [] # 등락률\n",
    "c8 = [] # 거래량\n",
    "c9 = [] # 시가\n",
    "c10 = [] # 고가\n",
    "c11 = [] # 저가\n",
    "\n",
    "for idx in idx_list:\n",
    "    com = top.find_all(\"tr\")[idx]\n",
    "#     print(com)\n",
    "    numtag = com.find_all(\"td\",class_=\"number\")\n",
    "    c2.append(numtag[0].text) # 연속\n",
    "    c3.append(numtag[1].text) # 누적\n",
    "    c5.append(numtag[2].text) # 현재가\n",
    "    c8.append(numtag[5].text) # 거래량\n",
    "    c9.append(numtag[6].text) # 시가\n",
    "    c10.append(numtag[7].text) # 고가\n",
    "    c11.append(numtag[8].text) # 저가\n",
    "\n",
    "    c4.append(com.find_all(\"a\")[0].text) # 종목명\n",
    "\n",
    "    redtag = com.find_all(\"span\", class_=\"tah p11 red01\")\n",
    "    c6.append(redtag[0].text.strip()) # 전일비\n",
    "    c7.append(redtag[1].text.strip()) # 등락률\n",
    "\n",
    "dat = {\"순위\":c1, \"연속\":c2, \"누적\":c3, \"종목명\":c4,\n",
    "       \"현재가\":c5, \"전일비\":c6, \"등락률\":c7, \"거래량\":c8,\n",
    "       \"시가\":c9, \"고가\":c10, \"저가\":c11}\n",
    "\n",
    "dat = pd.DataFrame(dat)\n",
    "dat.to_csv(\"top종목_상한가.csv\", index=False)"
   ]
  }
 ],
 "metadata": {
  "kernelspec": {
   "display_name": "Python 3",
   "language": "python",
   "name": "python3"
  },
  "language_info": {
   "codemirror_mode": {
    "name": "ipython",
    "version": 3
   },
   "file_extension": ".py",
   "mimetype": "text/x-python",
   "name": "python",
   "nbconvert_exporter": "python",
   "pygments_lexer": "ipython3",
   "version": "3.8.5"
  }
 },
 "nbformat": 4,
 "nbformat_minor": 4
}
