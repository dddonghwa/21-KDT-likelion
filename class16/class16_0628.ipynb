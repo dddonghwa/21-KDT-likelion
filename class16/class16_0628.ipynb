{
 "cells": [
  {
   "cell_type": "markdown",
   "metadata": {},
   "source": [
    "__6월 28일__\n",
    "\n",
    "[학습 목표]\n",
    "(1) 지난주 리뷰\n",
    "(2) pandas 기본\n",
    "(위치) 05_파이썬 라이브러리 - unit03_pandas_A\n",
    "(3) 캘리포니아 집값 데이터\n",
    "(위치) 05_파이썬 라이브러리 - unit04_pandas_B\n",
    "(4) 타이타닉 데이터 셋 실전 데이터 처리\n",
    "(위치) 05_파이썬 라이브러리 - unit04_pandas_B\n",
    "\n",
    "(4) tndjq flqb alc wjdfl\n",
    "(5) xlaquf vmfhwprxm fltjcl alc wnwp tjswjd"
   ]
  }
 ],
 "metadata": {
  "kernelspec": {
   "display_name": "Python 3",
   "language": "python",
   "name": "python3"
  },
  "language_info": {
   "codemirror_mode": {
    "name": "ipython",
    "version": 3
   },
   "file_extension": ".py",
   "mimetype": "text/x-python",
   "name": "python",
   "nbconvert_exporter": "python",
   "pygments_lexer": "ipython3",
   "version": "3.8.5"
  }
 },
 "nbformat": 4,
 "nbformat_minor": 4
}
