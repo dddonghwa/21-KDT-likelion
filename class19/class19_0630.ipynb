{
 "cells": [
  {
   "cell_type": "markdown",
   "metadata": {},
   "source": [
    "__6월 30일__\n",
    "\n",
    "[학습 목표]\n",
    "- plotly에 대해 알아본다.\n",
    "    - plotly\n",
    "    - plotly\n",
    "    \n",
    "\n",
    "학습 내용\n",
    "==========================\n",
    "(1) 리뷰\n",
    "(2) plotly 기본\n",
    "     - [위치] 05_파이썬 라이브러리 - unit07_plotly\n",
    "\t\n",
    "\t실습1 제출 : [멋쟁이사자처림] 04_멋사_titanic_plotly실습1_0630\n",
    "\t실습2 제출 : [멋쟁이사자처림] 05_멋사_bike_plotlyex_실습2_0630\n",
    "\t\n",
    "(3) 팀별 프로젝트 수행\n",
    "    - 15:00 ~ 15:50 팀별 프로젝트 수행\n",
    "\t- 16:05 ~ 16:30 팀당 3분 이내 발표\n",
    "(4) 수업 리뷰 및 정리"
   ]
  },
  {
   "cell_type": "code",
   "execution_count": null,
   "metadata": {},
   "outputs": [],
   "source": []
  }
 ],
 "metadata": {
  "kernelspec": {
   "display_name": "Python 3",
   "language": "python",
   "name": "python3"
  },
  "language_info": {
   "codemirror_mode": {
    "name": "ipython",
    "version": 3
   },
   "file_extension": ".py",
   "mimetype": "text/x-python",
   "name": "python",
   "nbconvert_exporter": "python",
   "pygments_lexer": "ipython3",
   "version": "3.8.5"
  }
 },
 "nbformat": 4,
 "nbformat_minor": 4
}
