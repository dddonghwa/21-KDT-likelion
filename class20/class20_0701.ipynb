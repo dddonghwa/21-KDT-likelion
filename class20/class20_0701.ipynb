{
 "cells": [
  {
   "cell_type": "markdown",
   "metadata": {},
   "source": [
    "__7월 1일__\n",
    "\n",
    "[학습 내용] \n",
    "(1) 리뷰\n",
    "(2) konlpy 기본\n",
    "- (위치) 05_파이썬 라이브러리 - unit06_konlpy\n",
    "- 실습1 제출 : [멋쟁이사자처림] 05_멋사_konlpy_텍스트분석실습_0701\n",
    "(3) \n"
   ]
  }
 ],
 "metadata": {
  "kernelspec": {
   "display_name": "Python 3",
   "language": "python",
   "name": "python3"
  },
  "language_info": {
   "codemirror_mode": {
    "name": "ipython",
    "version": 3
   },
   "file_extension": ".py",
   "mimetype": "text/x-python",
   "name": "python",
   "nbconvert_exporter": "python",
   "pygments_lexer": "ipython3",
   "version": "3.8.5"
  }
 },
 "nbformat": 4,
 "nbformat_minor": 4
}
