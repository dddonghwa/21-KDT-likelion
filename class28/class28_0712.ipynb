{
 "cells": [
  {
   "cell_type": "markdown",
   "metadata": {},
   "source": [
    "__7월 12일__\n",
    "\n",
    "[학습 내용]\n",
    "(1) 지난 시간 내용을 리뷰를 통해 기본을 다진다.\n",
    "    - 지난 시간 복습\n",
    "\n",
    "(2) 팀별 개인별 자료 정리 및 마무리 시간을 갖는다.\n",
    "    - 개인별 Github 정리\n",
    "    - 개인별 Notion 정리\n",
    "(3) dacon 대회에 참여를 해 본다.\n",
    "    - 계정을 만들기\n",
    "    - 데이터 다운로드 및 데이터 살펴보기\n",
    "    - 기본 모델 만들고 제출해 보기\n",
    "(4) 데이터 전처리 수행 및 모델 개선\n",
    "(5) 개별 면담(수업 후, 10분 2명)"
   ]
  }
 ],
 "metadata": {
  "kernelspec": {
   "display_name": "Python 3",
   "language": "python",
   "name": "python3"
  },
  "language_info": {
   "codemirror_mode": {
    "name": "ipython",
    "version": 3
   },
   "file_extension": ".py",
   "mimetype": "text/x-python",
   "name": "python",
   "nbconvert_exporter": "python",
   "pygments_lexer": "ipython3",
   "version": "3.8.5"
  }
 },
 "nbformat": 4,
 "nbformat_minor": 4
}
