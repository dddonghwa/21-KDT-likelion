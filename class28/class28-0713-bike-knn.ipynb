{
 "cells": [
  {
   "cell_type": "code",
   "execution_count": 1,
   "id": "e6c3dbe8",
   "metadata": {
    "_cell_guid": "b1076dfc-b9ad-4769-8c92-a6c4dae69d19",
    "_uuid": "8f2839f25d086af736a60e9eeb907d3b93b6e0e5",
    "execution": {
     "iopub.execute_input": "2021-07-13T12:35:16.995379Z",
     "iopub.status.busy": "2021-07-13T12:35:16.993535Z",
     "iopub.status.idle": "2021-07-13T12:35:17.010830Z",
     "shell.execute_reply": "2021-07-13T12:35:17.011925Z",
     "shell.execute_reply.started": "2021-07-13T11:55:37.881755Z"
    },
    "papermill": {
     "duration": 0.037926,
     "end_time": "2021-07-13T12:35:17.012342",
     "exception": false,
     "start_time": "2021-07-13T12:35:16.974416",
     "status": "completed"
    },
    "tags": []
   },
   "outputs": [
    {
     "name": "stdout",
     "output_type": "stream",
     "text": [
      "/kaggle/input/bike-sharing-demand/sampleSubmission.csv\n",
      "/kaggle/input/bike-sharing-demand/train.csv\n",
      "/kaggle/input/bike-sharing-demand/test.csv\n"
     ]
    }
   ],
   "source": [
    "## This Python 3 environment comes with many helpful analytics libraries installed\n",
    "# It is defined by the kaggle/python Docker image: https://github.com/kaggle/docker-python\n",
    "# For example, here's several helpful packages to load\n",
    "\n",
    "import numpy as np # linear algebra\n",
    "import pandas as pd # data processing, CSV file I/O (e.g. pd.read_csv)\n",
    "\n",
    "# Input data files are available in the read-only \"../input/\" directory\n",
    "# For example, running this (by clicking run or pressing Shift+Enter) will list all files under the input directory\n",
    "\n",
    "import os\n",
    "for dirname, _, filenames in os.walk('/kaggle/input'):\n",
    "    for filename in filenames:\n",
    "        print(os.path.join(dirname, filename))\n",
    "\n",
    "# You can write up to 20GB to the current directory (/kaggle/working/) that gets preserved as output when you create a version using \"Save & Run All\" \n",
    "# You can also write temporary files to /kaggle/temp/, but they won't be saved outside of the current session"
   ]
  },
  {
   "cell_type": "markdown",
   "id": "07848519",
   "metadata": {
    "papermill": {
     "duration": 0.013283,
     "end_time": "2021-07-13T12:35:17.040451",
     "exception": false,
     "start_time": "2021-07-13T12:35:17.027168",
     "status": "completed"
    },
    "tags": []
   },
   "source": [
    "# class28_0713_review "
   ]
  },
  {
   "cell_type": "code",
   "execution_count": 2,
   "id": "eb822977",
   "metadata": {
    "execution": {
     "iopub.execute_input": "2021-07-13T12:35:17.071418Z",
     "iopub.status.busy": "2021-07-13T12:35:17.070481Z",
     "iopub.status.idle": "2021-07-13T12:35:18.221624Z",
     "shell.execute_reply": "2021-07-13T12:35:18.221034Z",
     "shell.execute_reply.started": "2021-07-13T12:01:54.699691Z"
    },
    "papermill": {
     "duration": 1.167738,
     "end_time": "2021-07-13T12:35:18.221761",
     "exception": false,
     "start_time": "2021-07-13T12:35:17.054023",
     "status": "completed"
    },
    "tags": []
   },
   "outputs": [],
   "source": [
    "# 사용한 sklearn 모듈 모음\n",
    "\n",
    "from sklearn.datasets import load_iris"
   ]
  },
  {
   "cell_type": "markdown",
   "id": "817f4d07",
   "metadata": {
    "papermill": {
     "duration": 0.013272,
     "end_time": "2021-07-13T12:35:18.248814",
     "exception": false,
     "start_time": "2021-07-13T12:35:18.235542",
     "status": "completed"
    },
    "tags": []
   },
   "source": [
    "### iris 데이터 세트"
   ]
  },
  {
   "cell_type": "code",
   "execution_count": 3,
   "id": "5c593da4",
   "metadata": {
    "execution": {
     "iopub.execute_input": "2021-07-13T12:35:18.282371Z",
     "iopub.status.busy": "2021-07-13T12:35:18.281528Z",
     "iopub.status.idle": "2021-07-13T12:35:18.293687Z",
     "shell.execute_reply": "2021-07-13T12:35:18.293108Z",
     "shell.execute_reply.started": "2021-07-13T12:08:25.046654Z"
    },
    "papermill": {
     "duration": 0.03142,
     "end_time": "2021-07-13T12:35:18.293835",
     "exception": false,
     "start_time": "2021-07-13T12:35:18.262415",
     "status": "completed"
    },
    "tags": []
   },
   "outputs": [
    {
     "name": "stdout",
     "output_type": "stream",
     "text": [
      "['DESCR', 'data', 'feature_names', 'filename', 'frame', 'target', 'target_names'] \n",
      "\n",
      "dtype:  <class 'numpy.ndarray'>\n",
      "data.shape: (150, 4)\n",
      "target.shape: (150,) \n",
      "\n",
      "feature_names: ['sepal length (cm)', 'sepal width (cm)', 'petal length (cm)', 'petal width (cm)']\n",
      "target_names: ['setosa' 'versicolor' 'virginica']\n"
     ]
    }
   ],
   "source": [
    "iris = load_iris()\n",
    "# iris.data\n",
    "# iris.target\n",
    "print(dir(iris),\"\\n\")\n",
    "print(\"dtype: \", type(iris.data))\n",
    "print(\"data.shape:\", iris.data.shape)\n",
    "print(\"target.shape:\", iris.target.shape,\"\\n\")\n",
    "print(\"feature_names:\", iris.feature_names)\n",
    "print(\"target_names:\", iris.target_names)"
   ]
  },
  {
   "cell_type": "code",
   "execution_count": 4,
   "id": "03fc631a",
   "metadata": {
    "execution": {
     "iopub.execute_input": "2021-07-13T12:35:18.325761Z",
     "iopub.status.busy": "2021-07-13T12:35:18.324950Z",
     "iopub.status.idle": "2021-07-13T12:35:18.762573Z",
     "shell.execute_reply": "2021-07-13T12:35:18.762022Z",
     "shell.execute_reply.started": "2021-07-13T12:12:07.091811Z"
    },
    "papermill": {
     "duration": 0.454534,
     "end_time": "2021-07-13T12:35:18.762720",
     "exception": false,
     "start_time": "2021-07-13T12:35:18.308186",
     "status": "completed"
    },
    "tags": []
   },
   "outputs": [
    {
     "data": {
      "text/plain": [
       "<AxesSubplot:>"
      ]
     },
     "execution_count": 4,
     "metadata": {},
     "output_type": "execute_result"
    },
    {
     "data": {
      "image/png": "[encoded data removed]",
      "text/plain": [
       "<Figure size 432x288 with 1 Axes>"
      ]
     },
     "metadata": {
      "needs_background": "light"
     },
     "output_type": "display_data"
    }
   ],
   "source": [
    "import seaborn as sns\n",
    "import matplotlib.pyplot as plt\n",
    "\n",
    "# 결측치 확인\n",
    "plt.figure()\n",
    "# sns.heatmap(np.isnan(iris.data), cbar=False)\n",
    "sns.heatmap(np.isnan(iris.target.reshape(-1,1)),cbar=False)"
   ]
  },
  {
   "cell_type": "code",
   "execution_count": 5,
   "id": "9ef7306a",
   "metadata": {
    "execution": {
     "iopub.execute_input": "2021-07-13T12:35:18.799535Z",
     "iopub.status.busy": "2021-07-13T12:35:18.798821Z",
     "iopub.status.idle": "2021-07-13T12:35:18.803521Z",
     "shell.execute_reply": "2021-07-13T12:35:18.802860Z",
     "shell.execute_reply.started": "2021-07-13T12:13:42.225750Z"
    },
    "papermill": {
     "duration": 0.025541,
     "end_time": "2021-07-13T12:35:18.803656",
     "exception": false,
     "start_time": "2021-07-13T12:35:18.778115",
     "status": "completed"
    },
    "tags": []
   },
   "outputs": [
    {
     "data": {
      "text/plain": [
       "(array([0, 1, 2]), array([50, 50, 50]))"
      ]
     },
     "execution_count": 5,
     "metadata": {},
     "output_type": "execute_result"
    }
   ],
   "source": [
    "# 불균형 확인\n",
    "np.unique(iris.target, return_counts=True )"
   ]
  },
  {
   "cell_type": "markdown",
   "id": "2ca279b1",
   "metadata": {
    "papermill": {
     "duration": 0.015152,
     "end_time": "2021-07-13T12:35:18.834367",
     "exception": false,
     "start_time": "2021-07-13T12:35:18.819215",
     "status": "completed"
    },
    "tags": []
   },
   "source": [
    "## KNN 분류 모델"
   ]
  },
  {
   "cell_type": "code",
   "execution_count": 6,
   "id": "00f5bba0",
   "metadata": {
    "execution": {
     "iopub.execute_input": "2021-07-13T12:35:18.873460Z",
     "iopub.status.busy": "2021-07-13T12:35:18.872685Z",
     "iopub.status.idle": "2021-07-13T12:35:19.477947Z",
     "shell.execute_reply": "2021-07-13T12:35:19.478418Z",
     "shell.execute_reply.started": "2021-07-13T12:26:36.277206Z"
    },
    "papermill": {
     "duration": 0.628631,
     "end_time": "2021-07-13T12:35:19.478602",
     "exception": false,
     "start_time": "2021-07-13T12:35:18.849971",
     "status": "completed"
    },
    "tags": []
   },
   "outputs": [
    {
     "data": {
      "text/plain": [
       "<AxesSubplot:>"
      ]
     },
     "execution_count": 6,
     "metadata": {},
     "output_type": "execute_result"
    },
    {
     "data": {
      "image/png": "[encoded data removed]",
      "text/plain": [
       "<Figure size 432x288 with 1 Axes>"
      ]
     },
     "metadata": {
      "needs_background": "light"
     },
     "output_type": "display_data"
    }
   ],
   "source": [
    "from sklearn.neighbors import KNeighborsClassifier\n",
    "from sklearn.model_selection import train_test_split\n",
    "\n",
    "X = iris.data\n",
    "y = iris.target\n",
    "\n",
    "X_train, X_test, y_train, y_test = train_test_split(X,y,stratify=y, random_state=0)\n",
    "\n",
    "\n",
    "\n",
    "train_acc = []\n",
    "test_acc = []\n",
    "k_nums = range(1,22,2)\n",
    "\n",
    "for k in k_nums:\n",
    "    \n",
    "    model = KNeighborsClassifier(n_neighbors=k)\n",
    "    model.fit(X_train, y_train)\n",
    "#     pred = model.predict(X_test)\n",
    "    train_acc.append(model.score(X_train, y_train))\n",
    "    test_acc.append(model.score(X_test, y_test))\n",
    "    \n",
    "    \n",
    "dat = {\"train_acc\":train_acc, \"test_acc\":test_acc}\n",
    "dat_df = pd.DataFrame(dat, index=k_nums)\n",
    "sns.lineplot(data=dat_df, palette='tab10')"
   ]
  },
  {
   "cell_type": "code",
   "execution_count": 7,
   "id": "d9062a23",
   "metadata": {
    "execution": {
     "iopub.execute_input": "2021-07-13T12:35:19.520717Z",
     "iopub.status.busy": "2021-07-13T12:35:19.519764Z",
     "iopub.status.idle": "2021-07-13T12:35:19.524158Z",
     "shell.execute_reply": "2021-07-13T12:35:19.523555Z",
     "shell.execute_reply.started": "2021-07-13T12:26:45.895207Z"
    },
    "papermill": {
     "duration": 0.027306,
     "end_time": "2021-07-13T12:35:19.524300",
     "exception": false,
     "start_time": "2021-07-13T12:35:19.496994",
     "status": "completed"
    },
    "tags": []
   },
   "outputs": [
    {
     "data": {
      "text/plain": [
       "(array([0, 1, 2]), array([37, 37, 38]))"
      ]
     },
     "execution_count": 7,
     "metadata": {},
     "output_type": "execute_result"
    }
   ],
   "source": [
    "np.unique(y_train, return_counts=True)"
   ]
  },
  {
   "cell_type": "code",
   "execution_count": 8,
   "id": "85c09676",
   "metadata": {
    "execution": {
     "iopub.execute_input": "2021-07-13T12:35:19.562166Z",
     "iopub.status.busy": "2021-07-13T12:35:19.561500Z",
     "iopub.status.idle": "2021-07-13T12:35:19.566792Z",
     "shell.execute_reply": "2021-07-13T12:35:19.567333Z",
     "shell.execute_reply.started": "2021-07-13T12:26:52.171113Z"
    },
    "papermill": {
     "duration": 0.025836,
     "end_time": "2021-07-13T12:35:19.567499",
     "exception": false,
     "start_time": "2021-07-13T12:35:19.541663",
     "status": "completed"
    },
    "tags": []
   },
   "outputs": [
    {
     "data": {
      "text/plain": [
       "(array([0, 1, 2]), array([13, 13, 12]))"
      ]
     },
     "execution_count": 8,
     "metadata": {},
     "output_type": "execute_result"
    }
   ],
   "source": [
    "np.unique(y_test, return_counts=True)"
   ]
  },
  {
   "cell_type": "markdown",
   "id": "ad6bd1f3",
   "metadata": {
    "papermill": {
     "duration": 0.017184,
     "end_time": "2021-07-13T12:35:19.602371",
     "exception": false,
     "start_time": "2021-07-13T12:35:19.585187",
     "status": "completed"
    },
    "tags": []
   },
   "source": [
    "### bike 데이터 세트"
   ]
  },
  {
   "cell_type": "code",
   "execution_count": 9,
   "id": "62d8b827",
   "metadata": {
    "execution": {
     "iopub.execute_input": "2021-07-13T12:35:19.640487Z",
     "iopub.status.busy": "2021-07-13T12:35:19.639834Z",
     "iopub.status.idle": "2021-07-13T12:35:19.728152Z",
     "shell.execute_reply": "2021-07-13T12:35:19.727577Z",
     "shell.execute_reply.started": "2021-07-13T12:33:46.657489Z"
    },
    "papermill": {
     "duration": 0.108584,
     "end_time": "2021-07-13T12:35:19.728307",
     "exception": false,
     "start_time": "2021-07-13T12:35:19.619723",
     "status": "completed"
    },
    "tags": []
   },
   "outputs": [
    {
     "data": {
      "text/plain": [
       "((10886, 12), (6493, 9))"
      ]
     },
     "execution_count": 9,
     "metadata": {},
     "output_type": "execute_result"
    }
   ],
   "source": [
    "train = pd.read_csv(\"/kaggle/input/bike-sharing-demand/train.csv\", parse_dates=['datetime'])\n",
    "test = pd.read_csv(\"/kaggle/input/bike-sharing-demand/test.csv\", parse_dates=['datetime'])\n",
    "sub = pd.read_csv(\"/kaggle/input/bike-sharing-demand/sampleSubmission.csv\")\n",
    "\n",
    "train.shape, test.shape"
   ]
  },
  {
   "cell_type": "code",
   "execution_count": 10,
   "id": "cf2c3ca6",
   "metadata": {
    "execution": {
     "iopub.execute_input": "2021-07-13T12:35:19.769938Z",
     "iopub.status.busy": "2021-07-13T12:35:19.769241Z",
     "iopub.status.idle": "2021-07-13T12:35:19.772002Z",
     "shell.execute_reply": "2021-07-13T12:35:19.772495Z",
     "shell.execute_reply.started": "2021-07-13T12:33:41.514864Z"
    },
    "papermill": {
     "duration": 0.025736,
     "end_time": "2021-07-13T12:35:19.772660",
     "exception": false,
     "start_time": "2021-07-13T12:35:19.746924",
     "status": "completed"
    },
    "tags": []
   },
   "outputs": [
    {
     "data": {
      "text/plain": [
       "(6493, 2)"
      ]
     },
     "execution_count": 10,
     "metadata": {},
     "output_type": "execute_result"
    }
   ],
   "source": [
    "# sub.head()\n",
    "sub.shape"
   ]
  },
  {
   "cell_type": "code",
   "execution_count": 11,
   "id": "6c349403",
   "metadata": {
    "execution": {
     "iopub.execute_input": "2021-07-13T12:35:19.813677Z",
     "iopub.status.busy": "2021-07-13T12:35:19.812977Z",
     "iopub.status.idle": "2021-07-13T12:35:20.092172Z",
     "shell.execute_reply": "2021-07-13T12:35:20.091631Z",
     "shell.execute_reply.started": "2021-07-13T12:34:10.584736Z"
    },
    "papermill": {
     "duration": 0.300267,
     "end_time": "2021-07-13T12:35:20.092328",
     "exception": false,
     "start_time": "2021-07-13T12:35:19.792061",
     "status": "completed"
    },
    "tags": []
   },
   "outputs": [
    {
     "data": {
      "text/plain": [
       "(6493,)"
      ]
     },
     "execution_count": 11,
     "metadata": {},
     "output_type": "execute_result"
    }
   ],
   "source": [
    "from sklearn.neighbors import KNeighborsClassifier\n",
    "\n",
    "sel = ['temp','atemp']\n",
    "\n",
    "X_train = train[sel]\n",
    "X_test = test[sel]\n",
    "\n",
    "label_name = 'count'\n",
    "y_train = train[label_name]\n",
    "\n",
    "model = KNeighborsClassifier(n_neighbors=5)\n",
    "model.fit(X_train, y_train)\n",
    "pred = model.predict(X_test)\n",
    "\n",
    "pred.shape"
   ]
  },
  {
   "cell_type": "code",
   "execution_count": 12,
   "id": "3b8ccab8",
   "metadata": {
    "execution": {
     "iopub.execute_input": "2021-07-13T12:35:20.136298Z",
     "iopub.status.busy": "2021-07-13T12:35:20.135295Z",
     "iopub.status.idle": "2021-07-13T12:35:20.171883Z",
     "shell.execute_reply": "2021-07-13T12:35:20.171367Z",
     "shell.execute_reply.started": "2021-07-13T12:34:48.653557Z"
    },
    "papermill": {
     "duration": 0.060467,
     "end_time": "2021-07-13T12:35:20.172051",
     "exception": false,
     "start_time": "2021-07-13T12:35:20.111584",
     "status": "completed"
    },
    "tags": []
   },
   "outputs": [
    {
     "data": {
      "text/html": [
       "<div>\n",
       "<style scoped>\n",
       "    .dataframe tbody tr th:only-of-type {\n",
       "        vertical-align: middle;\n",
       "    }\n",
       "\n",
       "    .dataframe tbody tr th {\n",
       "        vertical-align: top;\n",
       "    }\n",
       "\n",
       "    .dataframe thead th {\n",
       "        text-align: right;\n",
       "    }\n",
       "</style>\n",
       "<table border=\"1\" class=\"dataframe\">\n",
       "  <thead>\n",
       "    <tr style=\"text-align: right;\">\n",
       "      <th></th>\n",
       "      <th>datetime</th>\n",
       "      <th>count</th>\n",
       "    </tr>\n",
       "  </thead>\n",
       "  <tbody>\n",
       "    <tr>\n",
       "      <th>0</th>\n",
       "      <td>2011-01-20 00:00:00</td>\n",
       "      <td>39</td>\n",
       "    </tr>\n",
       "    <tr>\n",
       "      <th>1</th>\n",
       "      <td>2011-01-20 01:00:00</td>\n",
       "      <td>5</td>\n",
       "    </tr>\n",
       "    <tr>\n",
       "      <th>2</th>\n",
       "      <td>2011-01-20 02:00:00</td>\n",
       "      <td>5</td>\n",
       "    </tr>\n",
       "    <tr>\n",
       "      <th>3</th>\n",
       "      <td>2011-01-20 03:00:00</td>\n",
       "      <td>3</td>\n",
       "    </tr>\n",
       "    <tr>\n",
       "      <th>4</th>\n",
       "      <td>2011-01-20 04:00:00</td>\n",
       "      <td>3</td>\n",
       "    </tr>\n",
       "    <tr>\n",
       "      <th>...</th>\n",
       "      <td>...</td>\n",
       "      <td>...</td>\n",
       "    </tr>\n",
       "    <tr>\n",
       "      <th>6488</th>\n",
       "      <td>2012-12-31 19:00:00</td>\n",
       "      <td>3</td>\n",
       "    </tr>\n",
       "    <tr>\n",
       "      <th>6489</th>\n",
       "      <td>2012-12-31 20:00:00</td>\n",
       "      <td>3</td>\n",
       "    </tr>\n",
       "    <tr>\n",
       "      <th>6490</th>\n",
       "      <td>2012-12-31 21:00:00</td>\n",
       "      <td>3</td>\n",
       "    </tr>\n",
       "    <tr>\n",
       "      <th>6491</th>\n",
       "      <td>2012-12-31 22:00:00</td>\n",
       "      <td>5</td>\n",
       "    </tr>\n",
       "    <tr>\n",
       "      <th>6492</th>\n",
       "      <td>2012-12-31 23:00:00</td>\n",
       "      <td>5</td>\n",
       "    </tr>\n",
       "  </tbody>\n",
       "</table>\n",
       "<p>6493 rows × 2 columns</p>\n",
       "</div>"
      ],
      "text/plain": [
       "                 datetime  count\n",
       "0     2011-01-20 00:00:00     39\n",
       "1     2011-01-20 01:00:00      5\n",
       "2     2011-01-20 02:00:00      5\n",
       "3     2011-01-20 03:00:00      3\n",
       "4     2011-01-20 04:00:00      3\n",
       "...                   ...    ...\n",
       "6488  2012-12-31 19:00:00      3\n",
       "6489  2012-12-31 20:00:00      3\n",
       "6490  2012-12-31 21:00:00      3\n",
       "6491  2012-12-31 22:00:00      5\n",
       "6492  2012-12-31 23:00:00      5\n",
       "\n",
       "[6493 rows x 2 columns]"
      ]
     },
     "execution_count": 12,
     "metadata": {},
     "output_type": "execute_result"
    }
   ],
   "source": [
    "sub['count'] = pred\n",
    "sub.to_csv(\"knn_1st_submission.csv\", index=False)\n",
    "sub"
   ]
  },
  {
   "cell_type": "code",
   "execution_count": null,
   "id": "5843ae97",
   "metadata": {
    "papermill": {
     "duration": 0.018437,
     "end_time": "2021-07-13T12:35:20.209929",
     "exception": false,
     "start_time": "2021-07-13T12:35:20.191492",
     "status": "completed"
    },
    "tags": []
   },
   "outputs": [],
   "source": []
  }
 ],
 "metadata": {
  "kernelspec": {
   "display_name": "Python 3",
   "language": "python",
   "name": "python3"
  },
  "language_info": {
   "codemirror_mode": {
    "name": "ipython",
    "version": 3
   },
   "file_extension": ".py",
   "mimetype": "text/x-python",
   "name": "python",
   "nbconvert_exporter": "python",
   "pygments_lexer": "ipython3",
   "version": "3.7.10"
  },
  "papermill": {
   "default_parameters": {},
   "duration": 14.003496,
   "end_time": "2021-07-13T12:35:21.940562",
   "environment_variables": {},
   "exception": null,
   "input_path": "__notebook__.ipynb",
   "output_path": "__notebook__.ipynb",
   "parameters": {},
   "start_time": "2021-07-13T12:35:07.937066",
   "version": "2.3.3"
  }
 },
 "nbformat": 4,
 "nbformat_minor": 5
}
