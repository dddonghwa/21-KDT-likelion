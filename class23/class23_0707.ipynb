{
 "cells": [
  {
   "cell_type": "markdown",
   "metadata": {},
   "source": [
    "__7월7일__\n",
    "\n",
    "1. 리뷰(파이썬 라이브러리)\n",
    "2. 데이터 분석 사례 리서치\n",
    "    - 지난 대회 우수작 리서치 및 정리\n",
    "3. 팀별 프로젝트 수행\n",
    "\t- 팀별 확인 20-30분\n",
    "\t- 개별 질의 40-50분\n",
    "\t\n",
    "4. 과제 체크 및 제출 ( tkinter 제출, 영화 10page 제출, folium 제출, konlpy) - 수요일\n",
    "06/14 tkinter 제출\n",
    "06/17 영화 10page 제출\n",
    "06/29 folium 제출\n",
    "06/30 konlpy 제출\n",
    "\n",
    "5. 하루 정리 및 마무리"
   ]
  },
  {
   "cell_type": "code",
   "execution_count": null,
   "metadata": {},
   "outputs": [],
   "source": []
  }
 ],
 "metadata": {
  "kernelspec": {
   "display_name": "Python 3",
   "language": "python",
   "name": "python3"
  },
  "language_info": {
   "codemirror_mode": {
    "name": "ipython",
    "version": 3
   },
   "file_extension": ".py",
   "mimetype": "text/x-python",
   "name": "python",
   "nbconvert_exporter": "python",
   "pygments_lexer": "ipython3",
   "version": "3.8.5"
  }
 },
 "nbformat": 4,
 "nbformat_minor": 4
}
