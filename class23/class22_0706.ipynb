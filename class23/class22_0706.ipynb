{
 "cells": [
  {
   "cell_type": "markdown",
   "metadata": {},
   "source": [
    "__ 7월 6일__ \n",
    "파이썬 라이브러리 실습(공공데이터-캐글)\n",
    "\n",
    "[학습 목표]\n",
    "- 지난 시간 리뷰\n",
    "- Washington D.C 자전거 공유 시스템의 자전거 대수를 예측한다.\n",
    "  공공 데이터 전처리 및 시각화 실습\n",
    "- 팀별 프로젝트를 수행한다.\n",
    "\n",
    "[학습 내용]\n",
    "1. 리뷰(파이썬 라이브러리)\n",
    "2. 팀별 프로젝트 중간 발표 내용 정리\n",
    "    - 팀별 피드백\n",
    "    - 좋았던 점. 좀더 나은 것을 위한 개선점.\n",
    "3. 타이타닉, Bike Sharing Demand의 데이터 처리 및 시각화\n",
    "    - 05_파이썬라이브러리 - unit08_data_project\n",
    "4. 과제 체크 및 제출 ( tkinter 제출, 영화 10page 제출, folium 제출, konlpy) - 수요일\n",
    "5. 하루 정리 및 마무리\n",
    "6. 데이터 출처 및 수집 데이터 전달(팀장님)"
   ]
  },
  {
   "cell_type": "markdown",
   "metadata": {},
   "source": [
    "### kaggle - titanic\n"
   ]
  }
 ],
 "metadata": {
  "kernelspec": {
   "display_name": "Python 3",
   "language": "python",
   "name": "python3"
  },
  "language_info": {
   "codemirror_mode": {
    "name": "ipython",
    "version": 3
   },
   "file_extension": ".py",
   "mimetype": "text/x-python",
   "name": "python",
   "nbconvert_exporter": "python",
   "pygments_lexer": "ipython3",
   "version": "3.8.5"
  }
 },
 "nbformat": 4,
 "nbformat_minor": 4
}
